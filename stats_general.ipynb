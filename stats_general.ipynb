{
 "cells": [
  {
   "cell_type": "code",
   "execution_count": 1,
   "metadata": {},
   "outputs": [],
   "source": [
    "with open ('subcorpus_falling.txt', 'r', encoding = 'utf-8') as f:\n",
    "    content = f.read()\n",
    "    sentences = content.split('\\n\\n\\n')            #делим на предложения"
   ]
  },
  {
   "cell_type": "code",
   "execution_count": 2,
   "metadata": {},
   "outputs": [],
   "source": [
    "verbs = 'падать, упасть, выпасть, опасть, завалиться, повалиться, отвалиться, обвалиться, сорваться, отскочить, соскочить, рухнуть, обрушиться, сыпаться, высыпаться, осыпаться, шлепнуться, грохнуться, шмякнуться, брякнуться, бултыхнуться, плюхнуться'\n",
    "target_verbs = [verb for verb in verbs.split(', ')]   \n",
    "verb_stats = dict.fromkeys(target_verbs, 0)"
   ]
  },
  {
   "cell_type": "code",
   "execution_count": 19,
   "metadata": {},
   "outputs": [],
   "source": [
    "id = 325738\n",
    "\n",
    "for s in sentences[325738:]:\n",
    "    tokens = [token.split('\\t') for token in s.split('\\n')]              #тут делим на строки(слова) + тэги\n",
    "    for line in tokens:\n",
    "        \n",
    "        if any(verb in line for verb in target_verbs):\n",
    "            target_line = line\n",
    "            target_verb = target_line[2]\n",
    "            \n",
    "            verb_stats[target_verb]+=1\n",
    "            \n",
    "            try: \n",
    "                args = [k for k in tokens if k[5]==target_line[4]]                #list index out of range error (??????)\n",
    "            except IndexError:\n",
    "                continue\n",
    "            \n",
    "    with open ('argstructure.txt', 'a', encoding='utf-8') as af:\n",
    "        if len(args) != 0:\n",
    "            arguments = '\\t\\t'.join(list(['\\t'.join(a) for a in args])) \n",
    "            af.write(str(id)+'\\n'+target_verb+'\\n'+arguments+'\\n\\n')\n",
    "        else:\n",
    "            af.write(str(id)+'\\n'+target_verb+'\\n'+'no arguments'+'\\n\\n')   \n",
    "    id += 1\n",
    "            "
   ]
  },
  {
   "cell_type": "code",
   "execution_count": 5,
   "metadata": {},
   "outputs": [
    {
     "data": {
      "text/plain": [
       "359608"
      ]
     },
     "execution_count": 5,
     "metadata": {},
     "output_type": "execute_result"
    }
   ],
   "source": [
    "len(sentences)"
   ]
  },
  {
   "cell_type": "code",
   "execution_count": 5,
   "metadata": {},
   "outputs": [],
   "source": [
    "with open ('stats.txt', 'a', encoding ='utf-8') as s:                     #пишем, сколько вхождений по каждому глаголу\n",
    "    for k in verb_stats:\n",
    "        s.write(k+'\\t'+str(verb_stats[k])+'\\n')"
   ]
  },
  {
   "cell_type": "code",
   "execution_count": 12,
   "metadata": {},
   "outputs": [],
   "source": [
    "tokensi = [token.split('\\t') for token in sentences[79].split('\\n')]"
   ]
  },
  {
   "cell_type": "code",
   "execution_count": 13,
   "metadata": {},
   "outputs": [
    {
     "data": {
      "text/plain": [
       "[['Выпало', 'Vmis-sna-p', 'выпасть', 'V', '1', '0', 'ROOT'],\n",
       " ['моим', 'P---pda', 'мой', 'P', '2', '3', 'опред'],\n",
       " ['ребятам', 'Ncmpdn', 'ребята', 'N', '3', '1', '2-компл'],\n",
       " ['процедура', 'Ncfsnn', 'процедура', 'N', '4', '1', 'предик'],\n",
       " ['реанимации', 'Ncfsgn', 'реанимация', 'N', '5', '4', 'квазиагент'],\n",
       " ['пострадавшего', 'Ncmsgy', 'пострадавший', 'N', '6', '5', 'квазиагент'],\n",
       " ['на', 'Sp-a', 'на', 'S', '7', '1', '2-компл'],\n",
       " ['троих', 'Mc--a', 'троих', 'M', '8', '7', 'предл'],\n",
       " ['(', '-', '(', '-', '9', '8', 'PUNC'],\n",
       " ['1-массаж', 'Ncmsnn', '1-массаж', 'N', '10', '1', 'предик'],\n",
       " ['сердца', 'Ncnsgn', 'сердце', 'N', '11', '10', 'квазиагент'],\n",
       " [',', ',', ',', ',', '12', '11', 'PUNC'],\n",
       " ['2-искус', 'Ncmsnn', '2-искус', 'N', '13', '10', 'аппоз']]"
      ]
     },
     "execution_count": 13,
     "metadata": {},
     "output_type": "execute_result"
    }
   ],
   "source": [
    "tokensi"
   ]
  },
  {
   "cell_type": "code",
   "execution_count": 15,
   "metadata": {},
   "outputs": [
    {
     "name": "stdout",
     "output_type": "stream",
     "text": [
      "['ребятам', 'Ncmpdn', 'ребята', 'N', '3', '1', '2-компл']\n",
      "['процедура', 'Ncfsnn', 'процедура', 'N', '4', '1', 'предик']\n",
      "['на', 'Sp-a', 'на', 'S', '7', '1', '2-компл']\n",
      "['1-массаж', 'Ncmsnn', '1-массаж', 'N', '10', '1', 'предик']\n"
     ]
    }
   ],
   "source": [
    "tl = tokensi[10]\n",
    "for l in tokensi:\n",
    "    if l[5] == '1':\n",
    "        print(l)"
   ]
  },
  {
   "cell_type": "code",
   "execution_count": null,
   "metadata": {},
   "outputs": [],
   "source": []
  }
 ],
 "metadata": {
  "kernelspec": {
   "display_name": "Python 3",
   "language": "python",
   "name": "python3"
  },
  "language_info": {
   "codemirror_mode": {
    "name": "ipython",
    "version": 3
   },
   "file_extension": ".py",
   "mimetype": "text/x-python",
   "name": "python",
   "nbconvert_exporter": "python",
   "pygments_lexer": "ipython3",
   "version": "3.7.4"
  }
 },
 "nbformat": 4,
 "nbformat_minor": 2
}
