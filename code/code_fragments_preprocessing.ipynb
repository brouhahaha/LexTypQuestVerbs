{
 "cells": [
  {
   "cell_type": "code",
   "execution_count": null,
   "metadata": {},
   "outputs": [],
   "source": [
    "import re\n",
    "import csv"
   ]
  },
  {
   "cell_type": "markdown",
   "metadata": {},
   "source": [
    "Код в клетках ниже позволяет собрать подкорпус из предложений, в которых встретился глагол падения из заданного списка"
   ]
  },
  {
   "cell_type": "code",
   "execution_count": null,
   "metadata": {},
   "outputs": [],
   "source": [
    "verbs = 'падать, упасть, выпасть, опасть, завалиться, повалиться, отвалиться, обвалиться, сорваться, отскочить, соскочить,рухнуть, обрушиться, сыпаться, высыпаться, осыпаться, шлепнуться, грохнуться, шмякнуться, брякнуться, бултыхнуться, плюхнуться'\n",
    "list_verbs = verbs.split(', ')"
   ]
  },
  {
   "cell_type": "code",
   "execution_count": null,
   "metadata": {},
   "outputs": [],
   "source": [
    "target_verbs = ['\\t'+verb for verb in list_verbs]"
   ]
  },
  {
   "cell_type": "code",
   "execution_count": null,
   "metadata": {},
   "outputs": [],
   "source": [
    "current_sentence = ''\n",
    "\n",
    "with open('lines_3000000.txt',  encoding = 'utf-8') as f:\n",
    "    for line in f:            \n",
    "        if 'SENT' in line:\n",
    "            current_sentence +='\\n\\n'\n",
    "            if any(verb in current_sentence for verb in target_verbs):\n",
    "                with open('subcorpus.txt', 'a', encoding = 'utf-8') as file:\n",
    "                    file.write(current_sentence)\n",
    "            current_sentence = ''\n",
    "        else:\n",
    "            current_sentence += line    "
   ]
  },
  {
   "cell_type": "markdown",
   "metadata": {},
   "source": [
    "Открыть файл с подкорпусом, он окажется в формате list, каждый элемент - предложение"
   ]
  },
  {
   "cell_type": "code",
   "execution_count": null,
   "metadata": {},
   "outputs": [],
   "source": [
    "with open ('subcorpus.txt', 'r', encoding = 'utf-8') as f:\n",
    "    content = f.read()\n",
    "    sentences = content.split('\\n\\n\\n')  "
   ]
  },
  {
   "cell_type": "markdown",
   "metadata": {},
   "source": [
    "Код ниже собирает статистику по вхождению каждого глагола в корпус"
   ]
  },
  {
   "cell_type": "code",
   "execution_count": null,
   "metadata": {},
   "outputs": [],
   "source": [
    "for s in sentences:\n",
    "    tokens = [token.split('\\t') for token in s.split('\\n')] \n",
    "    for line in tokens:\n",
    "        \n",
    "        if any(verb in line for verb in target_verbs):\n",
    "            target_line = line\n",
    "            target_verb = target_line[2]\n",
    "            \n",
    "            verb_stats[target_verb]+=1"
   ]
  },
  {
   "cell_type": "code",
   "execution_count": null,
   "metadata": {},
   "outputs": [],
   "source": [
    "with open ('verb_stats.txt', 'a', encoding ='utf-8') as s:\n",
    "    for k in verb_stats:\n",
    "        s.write(k+'\\t'+str(verb_stats[k])+'\\n')"
   ]
  },
  {
   "cell_type": "markdown",
   "metadata": {},
   "source": [
    "Следующие клетки решают задачу сбора информации об аргументной структуре каждого глагола"
   ]
  },
  {
   "cell_type": "code",
   "execution_count": null,
   "metadata": {},
   "outputs": [],
   "source": [
    "for s in sentences[id_start:]:\n",
    "    tokens = [token.split('\\t') for token in s.split('\\n')] \n",
    "    id = tokens[0][0]\n",
    "    #тут делим на строки(слова) + тэги\n",
    "    counter = 1\n",
    "    for line in tokens:\n",
    "\n",
    "        if any(verb in line for verb in target_verbs):\n",
    "            target_line = line\n",
    "            target_verb = target_line[2]\n",
    "            target_line_id = len(tokens) - counter - 1\n",
    "            \n",
    "            verb_stats[target_verb]+=1\n",
    "            try:\n",
    "                args = [k for k in tokens[1:] if k[5]==target_line[4]]         \n",
    "            except IndexError:\n",
    "                continue\n",
    "        else:\n",
    "            counter+=1\n",
    "    \n",
    "    if any('предик' in arg for arg in args) == False:\n",
    "        tokens.reverse()\n",
    "\n",
    "        \n",
    "        for line in tokens[target_line_id:target_line_id+7]:\n",
    "            print(line)\n",
    "            if len(line) == 7:\n",
    "                if line[3] in ['N', 'P'] and line[1][:-3:-1] in ['nn', 'yn'] and line[6] in ['предик', 'аппоз']:\n",
    "                    subject = '_'.join(line)\n",
    "                    print(subject)\n",
    "                    args.append(subject)\n",
    "                    break\n",
    "            else:\n",
    "                continue  \n",
    "                \n",
    "    with open ('argstructure_new.txt', 'a', encoding='utf-8') as af:\n",
    "        if len(args) != 0:\n",
    "            arguments = '\\t\\t'.join(list(['\\t'.join(a) for a in args])) \n",
    "            af.write(str(id)+'\\n'+target_verb+'\\n'+arguments+'\\n\\n')\n",
    "        else:\n",
    "            af.write(str(id)+'\\n'+target_verb+'\\n'+'no arguments'+'\\n\\n')     "
   ]
  },
  {
   "cell_type": "markdown",
   "metadata": {},
   "source": [
    "С помощью файла с аргументной структурой, файл ниже собирает информацию об отдельных вхождениях в заданных предложениях (по id)(в нашем случае для конкретных 100 примеров в одном фрейме)\n",
    "\n",
    "Итоговый файл содержит информацию об аргументах глагола в формате:\n",
    "\n",
    "глагол, id предложения, аргумент1|аргумент2|аргумент3"
   ]
  },
  {
   "cell_type": "code",
   "execution_count": 1,
   "metadata": {},
   "outputs": [],
   "source": [
    "with open ('argstructure_new.txt', 'r', encoding = 'utf-8') as ar:\n",
    "    content = ar.read()\n",
    "    \n",
    "items = content.split('\\n\\n')"
   ]
  },
  {
   "cell_type": "code",
   "execution_count": null,
   "metadata": {},
   "outputs": [],
   "source": [
    "suitable = ['1-компл', 'предик', '2-компл', 'обст', 'аппоз' ]\n",
    "\n",
    "\n",
    "with open('frame1.csv', \"w\", newline='', encoding = 'utf-8') as csv_file:\n",
    "    writer = csv.writer(csv_file, delimiter=',')\n",
    "    writer.writerow(['verb', 'id', 'args'])\n",
    "\n",
    "    for id in ids:\n",
    "        entry_info = items[int(id)]\n",
    "        ID, verb, args = entry_info.split('\\n')\n",
    "        args_splitted = [a.split('\\t') for a in args.split('\\t\\t')]\n",
    "        clean_args = [arg for arg in args_splitted if any(pos in arg for pos in suitable)]\n",
    "        nargs = ['\\t'.join(k) for k in clean_args]\n",
    "        kargs = '\\t\\t'.join(nargs)\n",
    "        normal_args = re.sub('\\t\\t', '|', kargs)\n",
    "        norm_args2 = re.sub('\\t', '_', normal_args)\n",
    "        info = [verb, str(id), norm_args2] \n",
    "        \n",
    "        writer.writerow(info)"
   ]
  },
  {
   "cell_type": "markdown",
   "metadata": {},
   "source": [
    "Разметка предложений на предмет наличия субъекта, начальной точки, конечной точки\n",
    "\n",
    "Итоговый файл содержит следуюущую информацию:\n",
    "    \n",
    "глагол, id предложения, наличие субъекта (0, 1), информация о субъекте, наличие нач.точки(0, 1), информация о нач.точке, наличие кон.точки(0, 1), информация о кон.точке "
   ]
  },
  {
   "cell_type": "code",
   "execution_count": null,
   "metadata": {},
   "outputs": [],
   "source": [
    "csv_file1  =  open('frame1_ANNO.csv', \"w\", newline='', encoding = 'utf-8')\n",
    "writer = csv.writer(csv_file1, delimiter=',')\n",
    "\n",
    "with open('frame1.csv', encoding = 'utf-8') as csv_file:\n",
    "    csv_reader = csv.reader(csv_file, delimiter=',')\n",
    "    line_count = 0\n",
    "\n",
    "    \n",
    "    for row in csv_reader:\n",
    "        if line_count == 0:\n",
    "            line_count += 1\n",
    "        else:\n",
    "            verb = row[0]\n",
    "            id = row[1]\n",
    "            args = row[2].split('|')\n",
    "            \n",
    "            #print(verb, id, args)\n",
    "            \n",
    "            subject = 0\n",
    "            subject_info = 0\n",
    "            goal = 0\n",
    "            goal_info = 0\n",
    "            source = 0\n",
    "            source_info = 0\n",
    "            \n",
    "            sentence = stcs_nod_noid[int(id)].split('\\n')\n",
    "            \n",
    "            for arg in args:\n",
    "                \n",
    "                print(arg)\n",
    "                \n",
    "                ###СУБЪЕКТ\n",
    "                try:\n",
    "                    if 'предик' in arg or 'аппоз' in arg:\n",
    "                        subject  = 1\n",
    "                        subject_info = arg\n",
    "                    \n",
    "                    if 'компл' in arg or 'обст' in arg:\n",
    "                        if arg.split('_')[3] == 'S':\n",
    "                            prep = arg.split('_')[0]\n",
    "                        #print(sentence)\n",
    "                            noun = sentence[int(arg.split('_')[4])]\n",
    "                            print(noun)\n",
    "                        \n",
    "                            poss = [\"\\tA\\t\", \"\\tV\\t\", \"\\tP\\t\", 'PUNC', \"\\tM\\t\"]\n",
    "                            shift = 1\n",
    "                        \n",
    "                            if int(arg.split('_')[4]) < len(sentence)-1:\n",
    "                                if  any(pos in noun for pos in poss):\n",
    "                                    try:\n",
    "                                        while \"\\tN\\t\" not in noun and 'gn\\t' not in noun:\n",
    "                                            print ('NOT NOUN ')\n",
    "                                            noun = sentence[int(arg.split('_')[4])+shift]\n",
    "                                            print(noun)\n",
    "                                            shift += 1\n",
    "                                    except IndexError:\n",
    "                                        pass\n",
    "                                \n",
    "                            ppnoun = re.sub('\\t', '_', noun)\n",
    "                        #print(ppnoun)\n",
    "                        \n",
    "                            if ppnoun.split('_')[1][-2:] in ['an', 'ay'] and goal == 0:\n",
    "                                goal = 1\n",
    "                                goal_info = arg+'\\t\\t'+ppnoun\n",
    "                                print('GOAL')\n",
    "                            elif ppnoun.split('_')[1][-2:]== 'gn' and prep.lower() in ['из', 'со', 'с', 'из-под' ]  and source == 0:\n",
    "                                source = 1\n",
    "                                source_info = arg+'\\t\\t'+ppnoun\n",
    "                                print('SOURCE')\n",
    "                            \n",
    "                        elif arg.split('_')[3] == 'R':\n",
    "                            if arg.split('_')[0].lower() =='сверху':\n",
    "                                source = 1\n",
    "                                source_info = re.sub('\\t', '_', arg)\n",
    "                                print('SOURCE')\n",
    "                            elif arg.split('_')[0].lower() in ['вниз', 'вбок']:\n",
    "                                goal = 1\n",
    "                                goal_info = re.sub('\\t', '_', arg)\n",
    "                                print('GOAL')\n",
    "                            \n",
    "                        elif arg.split('_')[3] == 'P':\n",
    "                            if arg.split('_')[0].lower() =='откуда':\n",
    "                                source = 1\n",
    "                                source_info = re.sub('\\t', '_', arg)\n",
    "                                print('SOURCE')\n",
    "                            elif arg.split('_')[0].lower() =='куда':\n",
    "                                goal = 1\n",
    "                                goal_info = re.sub('\\t', '_', arg)\n",
    "                                print('GOAL')\n",
    "                except IndexError:\n",
    "                    pass\n",
    "                \n",
    "            line_count += 1\n",
    "        \n",
    "                  \n",
    "            writer.writerow([verb, id, subject, subject_info, source, source_info, goal, goal_info])\n",
    "        print(line_count)\n",
    "            \n",
    "csv_file1.close() \n",
    "\n",
    "                      \n",
    "                      "
   ]
  }
 ],
 "metadata": {
  "kernelspec": {
   "display_name": "Python 3",
   "language": "python",
   "name": "python3"
  },
  "language_info": {
   "codemirror_mode": {
    "name": "ipython",
    "version": 3
   },
   "file_extension": ".py",
   "mimetype": "text/x-python",
   "name": "python",
   "nbconvert_exporter": "python",
   "pygments_lexer": "ipython3",
   "version": "3.7.4"
  }
 },
 "nbformat": 4,
 "nbformat_minor": 2
}
