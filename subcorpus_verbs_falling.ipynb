{
 "cells": [
  {
   "cell_type": "code",
   "execution_count": 14,
   "metadata": {},
   "outputs": [],
   "source": [
    "verbs = 'падать, упасть, выпасть, опасть, завалиться, повалиться, отвалиться, обвалиться, сорваться, отскочить, соскочить,рухнуть, обрушиться, сыпаться, высыпаться, осыпаться, шлепнуться, грохнуться, шмякнуться, брякнуться, бултыхнуться, плюхнуться'\n",
    "list_verbs = verbs.split(', ')"
   ]
  },
  {
   "cell_type": "code",
   "execution_count": 15,
   "metadata": {},
   "outputs": [],
   "source": [
    "target_verbs = ['\\t'+verb for verb in list_verbs]"
   ]
  },
  {
   "cell_type": "code",
   "execution_count": 16,
   "metadata": {},
   "outputs": [],
   "source": [
    "current_sentence = ''\n",
    "\n",
    "with open('lines_3000000.txt',  encoding = 'utf-8') as f:\n",
    "    for line in f:            \n",
    "        if 'SENT' in line:\n",
    "            current_sentence +='\\n\\n'\n",
    "            if any(verb in current_sentence for verb in target_verbs):\n",
    "                with open('subcorpus.txt', 'a', encoding = 'utf-8') as file:\n",
    "                    file.write(current_sentence)\n",
    "            current_sentence = ''\n",
    "        else:\n",
    "            current_sentence += line          "
   ]
  }
 ],
 "metadata": {
  "kernelspec": {
   "display_name": "Python 3",
   "language": "python",
   "name": "python3"
  },
  "language_info": {
   "codemirror_mode": {
    "name": "ipython",
    "version": 3
   },
   "file_extension": ".py",
   "mimetype": "text/x-python",
   "name": "python",
   "nbconvert_exporter": "python",
   "pygments_lexer": "ipython3",
   "version": "3.7.4"
  }
 },
 "nbformat": 4,
 "nbformat_minor": 2
}
